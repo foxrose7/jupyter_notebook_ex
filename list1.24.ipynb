{
 "cells": [
  {
   "cell_type": "markdown",
   "metadata": {
    "collapsed": true,
    "pycharm": {
     "name": "#%% md\n"
    }
   },
   "source": [
    "## 1.4. 한글 폰트 환경의 준비\n",
    "### 그래프 그리기에서 한글이 깨지는 문제\n",
    "\n",
    "- 그래프를 그릴  때 캡션이나 레이블 등에 수치 이외의 문자열을 출력하는 경우가 있다.\n",
    "Matkplotlib 에서 한글을 출력 처리할 때 글자가 깨지는 문제에 부딪힌다.\n",
    "- 다음 예의 경우 한글이 깨지게 된다."
   ]
  },
  {
   "cell_type": "code",
   "execution_count": 1,
   "outputs": [
    {
     "name": "stderr",
     "output_type": "stream",
     "text": [
      "/Users/foxrose/opt/anaconda3/envs/keras/lib/python3.7/site-packages/matplotlib/backends/backend_agg.py:211: RuntimeWarning: Glyph 54620 missing from current font.\n",
      "  font.set_text(s, 0.0, flags=flags)\n",
      "/Users/foxrose/opt/anaconda3/envs/keras/lib/python3.7/site-packages/matplotlib/backends/backend_agg.py:211: RuntimeWarning: Glyph 44544 missing from current font.\n",
      "  font.set_text(s, 0.0, flags=flags)\n",
      "/Users/foxrose/opt/anaconda3/envs/keras/lib/python3.7/site-packages/matplotlib/backends/backend_agg.py:211: RuntimeWarning: Glyph 51012 missing from current font.\n",
      "  font.set_text(s, 0.0, flags=flags)\n",
      "/Users/foxrose/opt/anaconda3/envs/keras/lib/python3.7/site-packages/matplotlib/backends/backend_agg.py:211: RuntimeWarning: Glyph 51648 missing from current font.\n",
      "  font.set_text(s, 0.0, flags=flags)\n",
      "/Users/foxrose/opt/anaconda3/envs/keras/lib/python3.7/site-packages/matplotlib/backends/backend_agg.py:211: RuntimeWarning: Glyph 51221 missing from current font.\n",
      "  font.set_text(s, 0.0, flags=flags)\n",
      "/Users/foxrose/opt/anaconda3/envs/keras/lib/python3.7/site-packages/matplotlib/backends/backend_agg.py:211: RuntimeWarning: Glyph 53440 missing from current font.\n",
      "  font.set_text(s, 0.0, flags=flags)\n",
      "/Users/foxrose/opt/anaconda3/envs/keras/lib/python3.7/site-packages/matplotlib/backends/backend_agg.py:211: RuntimeWarning: Glyph 51060 missing from current font.\n",
      "  font.set_text(s, 0.0, flags=flags)\n",
      "/Users/foxrose/opt/anaconda3/envs/keras/lib/python3.7/site-packages/matplotlib/backends/backend_agg.py:211: RuntimeWarning: Glyph 53952 missing from current font.\n",
      "  font.set_text(s, 0.0, flags=flags)\n",
      "/Users/foxrose/opt/anaconda3/envs/keras/lib/python3.7/site-packages/matplotlib/backends/backend_agg.py:180: RuntimeWarning: Glyph 54620 missing from current font.\n",
      "  font.set_text(s, 0, flags=flags)\n",
      "/Users/foxrose/opt/anaconda3/envs/keras/lib/python3.7/site-packages/matplotlib/backends/backend_agg.py:180: RuntimeWarning: Glyph 44544 missing from current font.\n",
      "  font.set_text(s, 0, flags=flags)\n",
      "/Users/foxrose/opt/anaconda3/envs/keras/lib/python3.7/site-packages/matplotlib/backends/backend_agg.py:180: RuntimeWarning: Glyph 51012 missing from current font.\n",
      "  font.set_text(s, 0, flags=flags)\n",
      "/Users/foxrose/opt/anaconda3/envs/keras/lib/python3.7/site-packages/matplotlib/backends/backend_agg.py:180: RuntimeWarning: Glyph 51648 missing from current font.\n",
      "  font.set_text(s, 0, flags=flags)\n",
      "/Users/foxrose/opt/anaconda3/envs/keras/lib/python3.7/site-packages/matplotlib/backends/backend_agg.py:180: RuntimeWarning: Glyph 51221 missing from current font.\n",
      "  font.set_text(s, 0, flags=flags)\n",
      "/Users/foxrose/opt/anaconda3/envs/keras/lib/python3.7/site-packages/matplotlib/backends/backend_agg.py:180: RuntimeWarning: Glyph 53440 missing from current font.\n",
      "  font.set_text(s, 0, flags=flags)\n",
      "/Users/foxrose/opt/anaconda3/envs/keras/lib/python3.7/site-packages/matplotlib/backends/backend_agg.py:180: RuntimeWarning: Glyph 51060 missing from current font.\n",
      "  font.set_text(s, 0, flags=flags)\n",
      "/Users/foxrose/opt/anaconda3/envs/keras/lib/python3.7/site-packages/matplotlib/backends/backend_agg.py:180: RuntimeWarning: Glyph 53952 missing from current font.\n",
      "  font.set_text(s, 0, flags=flags)\n"
     ]
    },
    {
     "data": {
      "text/plain": "<Figure size 432x288 with 1 Axes>",
      "image/png": "[encoded data removed]"
     },
     "metadata": {
      "needs_background": "light"
     },
     "output_type": "display_data"
    }
   ],
   "source": [
    "import numpy as np\n",
    "from matplotlib import pyplot as plt\n",
    "\n",
    "np.random.seed(0)\n",
    "\n",
    "x = range(5)\n",
    "\n",
    "y = 10 + 5 * np.random.randn(5)\n",
    "\n",
    "fig = plt.figure()\n",
    "ax = fig.add_subplot(111)\n",
    "\n",
    "ax.set_title('한글을 지정한 타이틀')\n",
    "\n",
    "ax.bar(x, y)\n",
    "\n",
    "plt.show()"
   ],
   "metadata": {
    "collapsed": false,
    "pycharm": {
     "name": "#%%\n"
    }
   }
  }
 ],
 "metadata": {
  "kernelspec": {
   "display_name": "Python 3",
   "language": "python",
   "name": "python3"
  },
  "language_info": {
   "codemirror_mode": {
    "name": "ipython",
    "version": 2
   },
   "file_extension": ".py",
   "mimetype": "text/x-python",
   "name": "python",
   "nbconvert_exporter": "python",
   "pygments_lexer": "ipython2",
   "version": "2.7.6"
  }
 },
 "nbformat": 4,
 "nbformat_minor": 0
}
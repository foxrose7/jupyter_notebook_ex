{
 "cells": [
  {
   "cell_type": "markdown",
   "metadata": {
    "collapsed": true,
    "pycharm": {
     "name": "#%% md\n"
    }
   },
   "source": [
    "### 한글 폰트 이용하기\n",
    "\n",
    "- pyplot.font_manager.FontProperties 클래스에 이용하고 싶은\n",
    "폰트의 경로를 부여해서 인스턴트 폰트를 생성하고 폰트 사이즈를\n",
    "설정한다.\n",
    "- 한글을 사용하는 곳에서 fontproperties 에 생성한 FontProperties\n",
    "의 인스턴트를 지정한다."
   ]
  },
  {
   "cell_type": "code",
   "execution_count": 5,
   "outputs": [
    {
     "data": {
      "text/plain": "<Figure size 432x288 with 1 Axes>",
      "image/png": "[encoded data removed]"
     },
     "metadata": {
      "needs_background": "light"
     },
     "output_type": "display_data"
    }
   ],
   "source": [
    "import os\n",
    "import numpy as np\n",
    "from matplotlib import pyplot as plt, font_manager\n",
    "\n",
    "# 폰트 캐쉬를 재구축 한다.\n",
    "\n",
    "font_manager._rebuild()\n",
    "\n",
    "if os.name == 'nt':\n",
    "    # os 가 windows 인 경우 win32FontDirectory()를 이용할 수 있다.\n",
    "    font_dir = font_manager.win32FontDirectory()\n",
    "else:\n",
    "    # os가 macOS 인 경우에는 디렉터리를 지정한다.\n",
    "    # 경로에 포함되는 유저명은 환경에 맞게 변경한다.\n",
    "    font_dir ='/Users/foxrose/Library/fonts'\n",
    "font_path = os.path.join(font_dir, 'D2CodingBold-Ver1.3.2-20180524.ttf')\n",
    "font = font_manager.FontProperties(fname = font_path, size = 14)\n",
    "\n",
    "# 그래프를 작성한다.\n",
    "np.random.seed(0)\n",
    "\n",
    "x = range(5)\n",
    "\n",
    "y = 10 + 5 * np.random.randn(5)\n",
    "fig = plt.figure()\n",
    "ax = fig.add_subplot(111)\n",
    "\n",
    "# 여기서 fontproperties 를 지정한다.\n",
    "ax.set_title('한국어를 지정한 타이틀', fontproperties = font)\n",
    "ax.bar(x, y)\n",
    "\n",
    "plt.show()\n",
    "\n",
    "\n",
    "\n"
   ],
   "metadata": {
    "collapsed": false,
    "pycharm": {
     "name": "#%%\n"
    }
   }
  }
 ],
 "metadata": {
  "kernelspec": {
   "display_name": "Python 3",
   "language": "python",
   "name": "python3"
  },
  "language_info": {
   "codemirror_mode": {
    "name": "ipython",
    "version": 2
   },
   "file_extension": ".py",
   "mimetype": "text/x-python",
   "name": "python",
   "nbconvert_exporter": "python",
   "pygments_lexer": "ipython2",
   "version": "2.7.6"
  }
 },
 "nbformat": 4,
 "nbformat_minor": 0
}